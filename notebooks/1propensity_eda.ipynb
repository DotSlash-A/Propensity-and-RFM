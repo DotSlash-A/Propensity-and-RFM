{
 "cells": [
  {
   "cell_type": "code",
   "execution_count": 67,
   "metadata": {},
   "outputs": [],
   "source": [
    "import pandas as pd\n",
    "import numpy as  numpy\n",
    "import matplotlib.pyplot as plt\n",
    "import seaborn as sns\n",
    "sns.set()\n"
   ]
  },
  {
   "cell_type": "code",
   "execution_count": 2,
   "metadata": {},
   "outputs": [
    {
     "data": {
      "text/html": [
       "<div>\n",
       "<style scoped>\n",
       "    .dataframe tbody tr th:only-of-type {\n",
       "        vertical-align: middle;\n",
       "    }\n",
       "\n",
       "    .dataframe tbody tr th {\n",
       "        vertical-align: top;\n",
       "    }\n",
       "\n",
       "    .dataframe thead th {\n",
       "        text-align: right;\n",
       "    }\n",
       "</style>\n",
       "<table border=\"1\" class=\"dataframe\">\n",
       "  <thead>\n",
       "    <tr style=\"text-align: right;\">\n",
       "      <th></th>\n",
       "      <th>User_id</th>\n",
       "      <th>Session_id</th>\n",
       "      <th>DateTime</th>\n",
       "      <th>Category</th>\n",
       "      <th>SubCategory</th>\n",
       "      <th>Action</th>\n",
       "      <th>Quantity</th>\n",
       "      <th>Rate</th>\n",
       "      <th>Total Price</th>\n",
       "    </tr>\n",
       "  </thead>\n",
       "  <tbody>\n",
       "    <tr>\n",
       "      <th>0</th>\n",
       "      <td>52243841613</td>\n",
       "      <td>d76fde-8bb3-4e00-8c23</td>\n",
       "      <td>2019-01-10 10:20:00</td>\n",
       "      <td>Electronic Appliances</td>\n",
       "      <td>Speakers</td>\n",
       "      <td>first_app_open</td>\n",
       "      <td>NaN</td>\n",
       "      <td>NaN</td>\n",
       "      <td>NaN</td>\n",
       "    </tr>\n",
       "    <tr>\n",
       "      <th>1</th>\n",
       "      <td>52243841613</td>\n",
       "      <td>33dfbd-b87a-4708-9857</td>\n",
       "      <td>2019-01-10 10:22:00</td>\n",
       "      <td>Electronic Appliances</td>\n",
       "      <td>Speakers</td>\n",
       "      <td>search</td>\n",
       "      <td>NaN</td>\n",
       "      <td>NaN</td>\n",
       "      <td>NaN</td>\n",
       "    </tr>\n",
       "    <tr>\n",
       "      <th>2</th>\n",
       "      <td>57314161118</td>\n",
       "      <td>6511c2-e2e3-422b-b695</td>\n",
       "      <td>2019-01-10 14:00:00</td>\n",
       "      <td>Men's Fashion</td>\n",
       "      <td>Jeans</td>\n",
       "      <td>search</td>\n",
       "      <td>NaN</td>\n",
       "      <td>NaN</td>\n",
       "      <td>NaN</td>\n",
       "    </tr>\n",
       "    <tr>\n",
       "      <th>3</th>\n",
       "      <td>57314161118</td>\n",
       "      <td>90fc70-0e80-4590-96f3</td>\n",
       "      <td>2019-01-10 14:07:00</td>\n",
       "      <td>Men's Fashion</td>\n",
       "      <td>Jeans</td>\n",
       "      <td>product_view</td>\n",
       "      <td>NaN</td>\n",
       "      <td>NaN</td>\n",
       "      <td>NaN</td>\n",
       "    </tr>\n",
       "    <tr>\n",
       "      <th>4</th>\n",
       "      <td>57314161118</td>\n",
       "      <td>bd7419-2748-4c56-95b4</td>\n",
       "      <td>2019-01-10 14:12:00</td>\n",
       "      <td>Men's Fashion</td>\n",
       "      <td>Jeans</td>\n",
       "      <td>read_reviews</td>\n",
       "      <td>NaN</td>\n",
       "      <td>NaN</td>\n",
       "      <td>NaN</td>\n",
       "    </tr>\n",
       "  </tbody>\n",
       "</table>\n",
       "</div>"
      ],
      "text/plain": [
       "       User_id             Session_id             DateTime  \\\n",
       "0  52243841613  d76fde-8bb3-4e00-8c23  2019-01-10 10:20:00   \n",
       "1  52243841613  33dfbd-b87a-4708-9857  2019-01-10 10:22:00   \n",
       "2  57314161118  6511c2-e2e3-422b-b695  2019-01-10 14:00:00   \n",
       "3  57314161118  90fc70-0e80-4590-96f3  2019-01-10 14:07:00   \n",
       "4  57314161118  bd7419-2748-4c56-95b4  2019-01-10 14:12:00   \n",
       "\n",
       "                Category SubCategory          Action  Quantity  Rate  \\\n",
       "0  Electronic Appliances    Speakers  first_app_open       NaN   NaN   \n",
       "1  Electronic Appliances    Speakers          search       NaN   NaN   \n",
       "2          Men's Fashion       Jeans          search       NaN   NaN   \n",
       "3          Men's Fashion       Jeans    product_view       NaN   NaN   \n",
       "4          Men's Fashion       Jeans    read_reviews       NaN   NaN   \n",
       "\n",
       "   Total Price  \n",
       "0          NaN  \n",
       "1          NaN  \n",
       "2          NaN  \n",
       "3          NaN  \n",
       "4          NaN  "
      ]
     },
     "execution_count": 2,
     "metadata": {},
     "output_type": "execute_result"
    }
   ],
   "source": [
    "data=pd.read_excel('../data/final_customer_data.xlsx')\n",
    "data.head()"
   ]
  },
  {
   "cell_type": "code",
   "execution_count": 5,
   "metadata": {},
   "outputs": [
    {
     "name": "stdout",
     "output_type": "stream",
     "text": [
      "         User_id                    Session_id             DateTime  \\\n",
      "193  51676463689   hfgba1f2-f6f-4220-b393-ec69  27/05/2019 11:12:00   \n",
      "194  51676463689      4bv69-5c2a-4c3c-945b-460  27/05/2019 11:15:00   \n",
      "195  51676463689       bvc0-4d3e-4e1a-90e3-ab9  27/05/2019 11:18:00   \n",
      "196  51676463689     ccnb1-4986-4d08-b595-d837  27/05/2019 11:22:00   \n",
      "197  51676463689     hgh1f2-f6f-4220-b393-ec70  27/05/2019 11:28:00   \n",
      "198  51676463689      tyg69-5c2a-4c3c-945b-461  27/05/2019 11:40:00   \n",
      "199  51676463689      hjm0-4d3e-4e1a-90e3-ab10  27/05/2019 11:45:00   \n",
      "200  51676463689    d6fa1f2-f6f-4220-b393-ec69  2019-10-10 14:10:00   \n",
      "201  51676463689    4627e69-5c2a-4c3c-945b-460  2019-10-10 14:20:00   \n",
      "202  51676463689    0e301c0-4d3e-4e1a-90e3-ab9  2019-10-10 14:23:00   \n",
      "203  51676463689     fdehg9-5c2a-4c3c-945b-589  2019-10-10 14:55:00   \n",
      "204  51676463689     gbhdffd3e-4e1a-90e3-75825  2019-10-10 15:10:00   \n",
      "205  51676463689   rthgfg-5c2a-4c73c-945b-7458  2019-10-10 17:30:00   \n",
      "206  51676463689   kjuy-4d3e-4e1a-94243-ab5432  2019-10-10 17:39:00   \n",
      "207  51676463689    yukjyh9-5c2a-4c3c-94653-46  2019-10-10 17:43:00   \n",
      "208  51676463689  dytfhj-4d3e-4e1a-90e54-ab645  2019-10-10 17:47:00   \n",
      "\n",
      "       Category SubCategory               Action  Quantity    Rate  \\\n",
      "193    Pet Care    Cat food       first_app_open       NaN     NaN   \n",
      "194    Pet Care    Cat food               search       NaN     NaN   \n",
      "195    Pet Care    Cat food       product_review       NaN     NaN   \n",
      "196    Pet Care    Cat food         read_reviews       NaN     NaN   \n",
      "197    Pet Care    Cat food          add_to_cart       NaN     NaN   \n",
      "198    Pet Care    Cat food             checkout       NaN     NaN   \n",
      "199    Pet Care    Cat food             purchase       3.0  1000.0   \n",
      "200  Stationary       Books               search       NaN     NaN   \n",
      "201  Stationary       Books       product_review       NaN     NaN   \n",
      "202  Stationary       Books         read_reviews       NaN     NaN   \n",
      "203  Stationary       Books               search       NaN     NaN   \n",
      "204  Stationary       Books      add_to_wishlist       NaN     NaN   \n",
      "205  Stationary       Books  click_wishlist_page       NaN     NaN   \n",
      "206  Stationary       Books          add_to_cart       NaN     NaN   \n",
      "207  Stationary       Books             checkout       NaN     NaN   \n",
      "208  Stationary       Books             purchase      10.0   200.0   \n",
      "\n",
      "     Total Price  \n",
      "193          NaN  \n",
      "194          NaN  \n",
      "195          NaN  \n",
      "196          NaN  \n",
      "197          NaN  \n",
      "198          NaN  \n",
      "199       3000.0  \n",
      "200          NaN  \n",
      "201          NaN  \n",
      "202          NaN  \n",
      "203          NaN  \n",
      "204          NaN  \n",
      "205          NaN  \n",
      "206          NaN  \n",
      "207          NaN  \n",
      "208       2000.0  \n"
     ]
    }
   ],
   "source": [
    "print(data[data['User_id']==51676463689])"
   ]
  },
  {
   "cell_type": "code",
   "execution_count": 6,
   "metadata": {},
   "outputs": [
    {
     "name": "stdout",
     "output_type": "stream",
     "text": [
      "(2090, 9)\n"
     ]
    },
    {
     "data": {
      "text/html": [
       "<div>\n",
       "<style scoped>\n",
       "    .dataframe tbody tr th:only-of-type {\n",
       "        vertical-align: middle;\n",
       "    }\n",
       "\n",
       "    .dataframe tbody tr th {\n",
       "        vertical-align: top;\n",
       "    }\n",
       "\n",
       "    .dataframe thead th {\n",
       "        text-align: right;\n",
       "    }\n",
       "</style>\n",
       "<table border=\"1\" class=\"dataframe\">\n",
       "  <thead>\n",
       "    <tr style=\"text-align: right;\">\n",
       "      <th></th>\n",
       "      <th>User_id</th>\n",
       "      <th>Session_id</th>\n",
       "      <th>DateTime</th>\n",
       "      <th>Category</th>\n",
       "      <th>SubCategory</th>\n",
       "      <th>Action</th>\n",
       "      <th>Quantity</th>\n",
       "      <th>Rate</th>\n",
       "      <th>Total Price</th>\n",
       "    </tr>\n",
       "  </thead>\n",
       "  <tbody>\n",
       "    <tr>\n",
       "      <th>0</th>\n",
       "      <td>52243841613</td>\n",
       "      <td>d76fde-8bb3-4e00-8c23</td>\n",
       "      <td>2019-01-10 10:20:00</td>\n",
       "      <td>Electronic Appliances</td>\n",
       "      <td>Speakers</td>\n",
       "      <td>first_app_open</td>\n",
       "      <td>NaN</td>\n",
       "      <td>NaN</td>\n",
       "      <td>NaN</td>\n",
       "    </tr>\n",
       "    <tr>\n",
       "      <th>1</th>\n",
       "      <td>52243841613</td>\n",
       "      <td>33dfbd-b87a-4708-9857</td>\n",
       "      <td>2019-01-10 10:22:00</td>\n",
       "      <td>Electronic Appliances</td>\n",
       "      <td>Speakers</td>\n",
       "      <td>search</td>\n",
       "      <td>NaN</td>\n",
       "      <td>NaN</td>\n",
       "      <td>NaN</td>\n",
       "    </tr>\n",
       "    <tr>\n",
       "      <th>2</th>\n",
       "      <td>57314161118</td>\n",
       "      <td>6511c2-e2e3-422b-b695</td>\n",
       "      <td>2019-01-10 14:00:00</td>\n",
       "      <td>Men's Fashion</td>\n",
       "      <td>Jeans</td>\n",
       "      <td>search</td>\n",
       "      <td>NaN</td>\n",
       "      <td>NaN</td>\n",
       "      <td>NaN</td>\n",
       "    </tr>\n",
       "    <tr>\n",
       "      <th>3</th>\n",
       "      <td>57314161118</td>\n",
       "      <td>90fc70-0e80-4590-96f3</td>\n",
       "      <td>2019-01-10 14:07:00</td>\n",
       "      <td>Men's Fashion</td>\n",
       "      <td>Jeans</td>\n",
       "      <td>product_view</td>\n",
       "      <td>NaN</td>\n",
       "      <td>NaN</td>\n",
       "      <td>NaN</td>\n",
       "    </tr>\n",
       "    <tr>\n",
       "      <th>4</th>\n",
       "      <td>57314161118</td>\n",
       "      <td>bd7419-2748-4c56-95b4</td>\n",
       "      <td>2019-01-10 14:12:00</td>\n",
       "      <td>Men's Fashion</td>\n",
       "      <td>Jeans</td>\n",
       "      <td>read_reviews</td>\n",
       "      <td>NaN</td>\n",
       "      <td>NaN</td>\n",
       "      <td>NaN</td>\n",
       "    </tr>\n",
       "  </tbody>\n",
       "</table>\n",
       "</div>"
      ],
      "text/plain": [
       "       User_id             Session_id            DateTime  \\\n",
       "0  52243841613  d76fde-8bb3-4e00-8c23 2019-01-10 10:20:00   \n",
       "1  52243841613  33dfbd-b87a-4708-9857 2019-01-10 10:22:00   \n",
       "2  57314161118  6511c2-e2e3-422b-b695 2019-01-10 14:00:00   \n",
       "3  57314161118  90fc70-0e80-4590-96f3 2019-01-10 14:07:00   \n",
       "4  57314161118  bd7419-2748-4c56-95b4 2019-01-10 14:12:00   \n",
       "\n",
       "                Category SubCategory          Action  Quantity  Rate  \\\n",
       "0  Electronic Appliances    Speakers  first_app_open       NaN   NaN   \n",
       "1  Electronic Appliances    Speakers          search       NaN   NaN   \n",
       "2          Men's Fashion       Jeans          search       NaN   NaN   \n",
       "3          Men's Fashion       Jeans    product_view       NaN   NaN   \n",
       "4          Men's Fashion       Jeans    read_reviews       NaN   NaN   \n",
       "\n",
       "   Total Price  \n",
       "0          NaN  \n",
       "1          NaN  \n",
       "2          NaN  \n",
       "3          NaN  \n",
       "4          NaN  "
      ]
     },
     "execution_count": 6,
     "metadata": {},
     "output_type": "execute_result"
    }
   ],
   "source": [
    "data['DateTime'] = pd.to_datetime(data['DateTime'])\n",
    "print(data.shape)\n",
    "data.head()"
   ]
  },
  {
   "cell_type": "code",
   "execution_count": 7,
   "metadata": {},
   "outputs": [
    {
     "name": "stdout",
     "output_type": "stream",
     "text": [
      "         User_id                    Session_id            DateTime  \\\n",
      "193  51676463689   hfgba1f2-f6f-4220-b393-ec69 2019-05-27 11:12:00   \n",
      "194  51676463689      4bv69-5c2a-4c3c-945b-460 2019-05-27 11:15:00   \n",
      "195  51676463689       bvc0-4d3e-4e1a-90e3-ab9 2019-05-27 11:18:00   \n",
      "196  51676463689     ccnb1-4986-4d08-b595-d837 2019-05-27 11:22:00   \n",
      "197  51676463689     hgh1f2-f6f-4220-b393-ec70 2019-05-27 11:28:00   \n",
      "198  51676463689      tyg69-5c2a-4c3c-945b-461 2019-05-27 11:40:00   \n",
      "199  51676463689      hjm0-4d3e-4e1a-90e3-ab10 2019-05-27 11:45:00   \n",
      "200  51676463689    d6fa1f2-f6f-4220-b393-ec69 2019-10-10 14:10:00   \n",
      "201  51676463689    4627e69-5c2a-4c3c-945b-460 2019-10-10 14:20:00   \n",
      "202  51676463689    0e301c0-4d3e-4e1a-90e3-ab9 2019-10-10 14:23:00   \n",
      "203  51676463689     fdehg9-5c2a-4c3c-945b-589 2019-10-10 14:55:00   \n",
      "204  51676463689     gbhdffd3e-4e1a-90e3-75825 2019-10-10 15:10:00   \n",
      "205  51676463689   rthgfg-5c2a-4c73c-945b-7458 2019-10-10 17:30:00   \n",
      "206  51676463689   kjuy-4d3e-4e1a-94243-ab5432 2019-10-10 17:39:00   \n",
      "207  51676463689    yukjyh9-5c2a-4c3c-94653-46 2019-10-10 17:43:00   \n",
      "208  51676463689  dytfhj-4d3e-4e1a-90e54-ab645 2019-10-10 17:47:00   \n",
      "\n",
      "       Category SubCategory               Action  Quantity    Rate  \\\n",
      "193    Pet Care    Cat food       first_app_open       NaN     NaN   \n",
      "194    Pet Care    Cat food               search       NaN     NaN   \n",
      "195    Pet Care    Cat food       product_review       NaN     NaN   \n",
      "196    Pet Care    Cat food         read_reviews       NaN     NaN   \n",
      "197    Pet Care    Cat food          add_to_cart       NaN     NaN   \n",
      "198    Pet Care    Cat food             checkout       NaN     NaN   \n",
      "199    Pet Care    Cat food             purchase       3.0  1000.0   \n",
      "200  Stationary       Books               search       NaN     NaN   \n",
      "201  Stationary       Books       product_review       NaN     NaN   \n",
      "202  Stationary       Books         read_reviews       NaN     NaN   \n",
      "203  Stationary       Books               search       NaN     NaN   \n",
      "204  Stationary       Books      add_to_wishlist       NaN     NaN   \n",
      "205  Stationary       Books  click_wishlist_page       NaN     NaN   \n",
      "206  Stationary       Books          add_to_cart       NaN     NaN   \n",
      "207  Stationary       Books             checkout       NaN     NaN   \n",
      "208  Stationary       Books             purchase      10.0   200.0   \n",
      "\n",
      "     Total Price  \n",
      "193          NaN  \n",
      "194          NaN  \n",
      "195          NaN  \n",
      "196          NaN  \n",
      "197          NaN  \n",
      "198          NaN  \n",
      "199       3000.0  \n",
      "200          NaN  \n",
      "201          NaN  \n",
      "202          NaN  \n",
      "203          NaN  \n",
      "204          NaN  \n",
      "205          NaN  \n",
      "206          NaN  \n",
      "207          NaN  \n",
      "208       2000.0  \n"
     ]
    }
   ],
   "source": [
    "print(data[data['User_id']==51676463689])"
   ]
  },
  {
   "cell_type": "code",
   "execution_count": 8,
   "metadata": {},
   "outputs": [
    {
     "data": {
      "text/html": [
       "<div>\n",
       "<style scoped>\n",
       "    .dataframe tbody tr th:only-of-type {\n",
       "        vertical-align: middle;\n",
       "    }\n",
       "\n",
       "    .dataframe tbody tr th {\n",
       "        vertical-align: top;\n",
       "    }\n",
       "\n",
       "    .dataframe thead th {\n",
       "        text-align: right;\n",
       "    }\n",
       "</style>\n",
       "<table border=\"1\" class=\"dataframe\">\n",
       "  <thead>\n",
       "    <tr style=\"text-align: right;\">\n",
       "      <th></th>\n",
       "      <th>User_id</th>\n",
       "      <th>Session_id</th>\n",
       "      <th>DateTime</th>\n",
       "      <th>Category</th>\n",
       "      <th>SubCategory</th>\n",
       "      <th>Action</th>\n",
       "      <th>Quantity</th>\n",
       "      <th>Rate</th>\n",
       "      <th>Total Price</th>\n",
       "    </tr>\n",
       "  </thead>\n",
       "  <tbody>\n",
       "    <tr>\n",
       "      <th>1299</th>\n",
       "      <td>52752311791</td>\n",
       "      <td>fd0aea20-cc32-4b2c-a79d</td>\n",
       "      <td>2019-08-11 22:11:00</td>\n",
       "      <td>Personal Care</td>\n",
       "      <td>Hair dryer</td>\n",
       "      <td>read_reviews</td>\n",
       "      <td>NaN</td>\n",
       "      <td>NaN</td>\n",
       "      <td>NaN</td>\n",
       "    </tr>\n",
       "    <tr>\n",
       "      <th>1261</th>\n",
       "      <td>59497643754</td>\n",
       "      <td>f3f85a21-e4b7-4df8-9d2a</td>\n",
       "      <td>2019-08-11 15:59:00</td>\n",
       "      <td>Gardern and Outdoor</td>\n",
       "      <td>Garden tool set</td>\n",
       "      <td>search</td>\n",
       "      <td>NaN</td>\n",
       "      <td>NaN</td>\n",
       "      <td>NaN</td>\n",
       "    </tr>\n",
       "    <tr>\n",
       "      <th>501</th>\n",
       "      <td>52055074267</td>\n",
       "      <td>b50d1ae8-1948-4517-8460</td>\n",
       "      <td>2019-10-21 23:27:00</td>\n",
       "      <td>Home Appliances</td>\n",
       "      <td>Lamp</td>\n",
       "      <td>add_to_cart</td>\n",
       "      <td>NaN</td>\n",
       "      <td>NaN</td>\n",
       "      <td>NaN</td>\n",
       "    </tr>\n",
       "    <tr>\n",
       "      <th>1636</th>\n",
       "      <td>55869541278</td>\n",
       "      <td>2c7cf28e-f9ea-40a8-883f</td>\n",
       "      <td>2019-11-11 13:44:00</td>\n",
       "      <td>Tv and Appliances</td>\n",
       "      <td>Ultra HD Tv</td>\n",
       "      <td>product_view</td>\n",
       "      <td>NaN</td>\n",
       "      <td>NaN</td>\n",
       "      <td>NaN</td>\n",
       "    </tr>\n",
       "    <tr>\n",
       "      <th>973</th>\n",
       "      <td>51508416101</td>\n",
       "      <td>a5955a17-5783-41f8-9118</td>\n",
       "      <td>2019-04-11 18:11:00</td>\n",
       "      <td>Men's Fashion</td>\n",
       "      <td>Socks</td>\n",
       "      <td>checkout</td>\n",
       "      <td>NaN</td>\n",
       "      <td>NaN</td>\n",
       "      <td>NaN</td>\n",
       "    </tr>\n",
       "    <tr>\n",
       "      <th>1672</th>\n",
       "      <td>58113870922</td>\n",
       "      <td>ec5fc836-2837-484a-ae34</td>\n",
       "      <td>2019-11-11 15:15:00</td>\n",
       "      <td>Television</td>\n",
       "      <td>Set top box</td>\n",
       "      <td>read_reviews</td>\n",
       "      <td>NaN</td>\n",
       "      <td>NaN</td>\n",
       "      <td>NaN</td>\n",
       "    </tr>\n",
       "    <tr>\n",
       "      <th>1608</th>\n",
       "      <td>58481913506</td>\n",
       "      <td>cxv609-f197-4bff-9efa</td>\n",
       "      <td>2019-04-19 21:12:00</td>\n",
       "      <td>Tablets</td>\n",
       "      <td>iPad</td>\n",
       "      <td>read_reviews</td>\n",
       "      <td>NaN</td>\n",
       "      <td>NaN</td>\n",
       "      <td>NaN</td>\n",
       "    </tr>\n",
       "    <tr>\n",
       "      <th>971</th>\n",
       "      <td>51508416101</td>\n",
       "      <td>a3ee8dcc-d52e-4701-8076</td>\n",
       "      <td>2019-04-11 17:56:00</td>\n",
       "      <td>Men's Fashion</td>\n",
       "      <td>Socks</td>\n",
       "      <td>product_review</td>\n",
       "      <td>NaN</td>\n",
       "      <td>NaN</td>\n",
       "      <td>NaN</td>\n",
       "    </tr>\n",
       "    <tr>\n",
       "      <th>302</th>\n",
       "      <td>52202209844</td>\n",
       "      <td>432eaca-f891-4e40-80be-63e</td>\n",
       "      <td>2019-10-14 19:20:00</td>\n",
       "      <td>Women's Fashion</td>\n",
       "      <td>Bangles</td>\n",
       "      <td>search</td>\n",
       "      <td>NaN</td>\n",
       "      <td>NaN</td>\n",
       "      <td>NaN</td>\n",
       "    </tr>\n",
       "    <tr>\n",
       "      <th>949</th>\n",
       "      <td>51725305614</td>\n",
       "      <td>aghjec1-a246-4d24-b94a</td>\n",
       "      <td>2019-07-01 21:49:00</td>\n",
       "      <td>Men's Fashion</td>\n",
       "      <td>Shirts</td>\n",
       "      <td>click_wishlist_page</td>\n",
       "      <td>NaN</td>\n",
       "      <td>NaN</td>\n",
       "      <td>NaN</td>\n",
       "    </tr>\n",
       "  </tbody>\n",
       "</table>\n",
       "</div>"
      ],
      "text/plain": [
       "          User_id                  Session_id            DateTime  \\\n",
       "1299  52752311791     fd0aea20-cc32-4b2c-a79d 2019-08-11 22:11:00   \n",
       "1261  59497643754     f3f85a21-e4b7-4df8-9d2a 2019-08-11 15:59:00   \n",
       "501   52055074267     b50d1ae8-1948-4517-8460 2019-10-21 23:27:00   \n",
       "1636  55869541278     2c7cf28e-f9ea-40a8-883f 2019-11-11 13:44:00   \n",
       "973   51508416101     a5955a17-5783-41f8-9118 2019-04-11 18:11:00   \n",
       "1672  58113870922     ec5fc836-2837-484a-ae34 2019-11-11 15:15:00   \n",
       "1608  58481913506       cxv609-f197-4bff-9efa 2019-04-19 21:12:00   \n",
       "971   51508416101     a3ee8dcc-d52e-4701-8076 2019-04-11 17:56:00   \n",
       "302   52202209844  432eaca-f891-4e40-80be-63e 2019-10-14 19:20:00   \n",
       "949   51725305614      aghjec1-a246-4d24-b94a 2019-07-01 21:49:00   \n",
       "\n",
       "                 Category      SubCategory               Action  Quantity  \\\n",
       "1299        Personal Care       Hair dryer         read_reviews       NaN   \n",
       "1261  Gardern and Outdoor  Garden tool set               search       NaN   \n",
       "501       Home Appliances             Lamp          add_to_cart       NaN   \n",
       "1636    Tv and Appliances      Ultra HD Tv         product_view       NaN   \n",
       "973         Men's Fashion            Socks             checkout       NaN   \n",
       "1672           Television      Set top box         read_reviews       NaN   \n",
       "1608              Tablets             iPad         read_reviews       NaN   \n",
       "971         Men's Fashion            Socks       product_review       NaN   \n",
       "302       Women's Fashion          Bangles               search       NaN   \n",
       "949         Men's Fashion           Shirts  click_wishlist_page       NaN   \n",
       "\n",
       "      Rate  Total Price  \n",
       "1299   NaN          NaN  \n",
       "1261   NaN          NaN  \n",
       "501    NaN          NaN  \n",
       "1636   NaN          NaN  \n",
       "973    NaN          NaN  \n",
       "1672   NaN          NaN  \n",
       "1608   NaN          NaN  \n",
       "971    NaN          NaN  \n",
       "302    NaN          NaN  \n",
       "949    NaN          NaN  "
      ]
     },
     "execution_count": 8,
     "metadata": {},
     "output_type": "execute_result"
    }
   ],
   "source": [
    "data.sample(10)"
   ]
  },
  {
   "cell_type": "code",
   "execution_count": 9,
   "metadata": {},
   "outputs": [
    {
     "name": "stdout",
     "output_type": "stream",
     "text": [
      "<class 'pandas.core.frame.DataFrame'>\n",
      "RangeIndex: 2090 entries, 0 to 2089\n",
      "Data columns (total 9 columns):\n",
      " #   Column       Non-Null Count  Dtype         \n",
      "---  ------       --------------  -----         \n",
      " 0   User_id      2090 non-null   int64         \n",
      " 1   Session_id   2090 non-null   object        \n",
      " 2   DateTime     2090 non-null   datetime64[ns]\n",
      " 3   Category     2090 non-null   object        \n",
      " 4   SubCategory  2090 non-null   object        \n",
      " 5   Action       2090 non-null   object        \n",
      " 6   Quantity     201 non-null    float64       \n",
      " 7   Rate         201 non-null    float64       \n",
      " 8   Total Price  201 non-null    float64       \n",
      "dtypes: datetime64[ns](1), float64(3), int64(1), object(4)\n",
      "memory usage: 147.1+ KB\n"
     ]
    }
   ],
   "source": [
    "data.info()"
   ]
  },
  {
   "cell_type": "markdown",
   "metadata": {},
   "source": [
    "### Univariate analysis"
   ]
  },
  {
   "cell_type": "markdown",
   "metadata": {},
   "source": [
    "time range"
   ]
  },
  {
   "cell_type": "code",
   "execution_count": 12,
   "metadata": {},
   "outputs": [
    {
     "name": "stdout",
     "output_type": "stream",
     "text": [
      "max Date: 2019-12-22 17:52:00\n",
      "min Date: 2019-01-01 11:00:00\n",
      "range is: 355 days 06:52:00\n"
     ]
    }
   ],
   "source": [
    "print(\"max Date:\",max(data['DateTime']))\n",
    "print(\"min Date:\",min(data['DateTime']))\n",
    "print(\"range is:\",max(data['DateTime'])-min(data['DateTime']))"
   ]
  },
  {
   "cell_type": "markdown",
   "metadata": {},
   "source": [
    "categories inspection"
   ]
  },
  {
   "cell_type": "code",
   "execution_count": 21,
   "metadata": {},
   "outputs": [
    {
     "name": "stdout",
     "output_type": "stream",
     "text": [
      "105\n"
     ]
    },
    {
     "data": {
      "text/html": [
       "<div>\n",
       "<style scoped>\n",
       "    .dataframe tbody tr th:only-of-type {\n",
       "        vertical-align: middle;\n",
       "    }\n",
       "\n",
       "    .dataframe tbody tr th {\n",
       "        vertical-align: top;\n",
       "    }\n",
       "\n",
       "    .dataframe thead th {\n",
       "        text-align: right;\n",
       "    }\n",
       "</style>\n",
       "<table border=\"1\" class=\"dataframe\">\n",
       "  <thead>\n",
       "    <tr style=\"text-align: right;\">\n",
       "      <th></th>\n",
       "      <th>Category</th>\n",
       "      <th>Session_id</th>\n",
       "    </tr>\n",
       "  </thead>\n",
       "  <tbody>\n",
       "    <tr>\n",
       "      <th>0</th>\n",
       "      <td>Mobile &amp; Accessories</td>\n",
       "      <td>139</td>\n",
       "    </tr>\n",
       "    <tr>\n",
       "      <th>1</th>\n",
       "      <td>Women's Fashion</td>\n",
       "      <td>113</td>\n",
       "    </tr>\n",
       "    <tr>\n",
       "      <th>2</th>\n",
       "      <td>Digital Devices</td>\n",
       "      <td>101</td>\n",
       "    </tr>\n",
       "    <tr>\n",
       "      <th>3</th>\n",
       "      <td>Accessories</td>\n",
       "      <td>91</td>\n",
       "    </tr>\n",
       "    <tr>\n",
       "      <th>4</th>\n",
       "      <td>Men's Fashion</td>\n",
       "      <td>88</td>\n",
       "    </tr>\n",
       "    <tr>\n",
       "      <th>5</th>\n",
       "      <td>Stationary</td>\n",
       "      <td>79</td>\n",
       "    </tr>\n",
       "    <tr>\n",
       "      <th>6</th>\n",
       "      <td>Fitness</td>\n",
       "      <td>77</td>\n",
       "    </tr>\n",
       "    <tr>\n",
       "      <th>7</th>\n",
       "      <td>Toys</td>\n",
       "      <td>57</td>\n",
       "    </tr>\n",
       "    <tr>\n",
       "      <th>8</th>\n",
       "      <td>Gardern and Outdoor</td>\n",
       "      <td>48</td>\n",
       "    </tr>\n",
       "    <tr>\n",
       "      <th>9</th>\n",
       "      <td>Electronic Appliances</td>\n",
       "      <td>47</td>\n",
       "    </tr>\n",
       "  </tbody>\n",
       "</table>\n",
       "</div>"
      ],
      "text/plain": [
       "                Category  Session_id\n",
       "0   Mobile & Accessories         139\n",
       "1        Women's Fashion         113\n",
       "2        Digital Devices         101\n",
       "3            Accessories          91\n",
       "4          Men's Fashion          88\n",
       "5             Stationary          79\n",
       "6                Fitness          77\n",
       "7                   Toys          57\n",
       "8    Gardern and Outdoor          48\n",
       "9  Electronic Appliances          47"
      ]
     },
     "execution_count": 21,
     "metadata": {},
     "output_type": "execute_result"
    }
   ],
   "source": [
    "print(str(data.Category.nunique()))\n",
    "temp_category=data.groupby('Category')['Session_id'].count().sort_values(ascending=False).reset_index()[:10]\n",
    "temp_category\n"
   ]
  },
  {
   "cell_type": "code",
   "execution_count": 24,
   "metadata": {},
   "outputs": [
    {
     "data": {
      "image/png": "[encoded data removed]",
      "text/plain": [
       "<Figure size 1500x500 with 1 Axes>"
      ]
     },
     "metadata": {},
     "output_type": "display_data"
    }
   ],
   "source": [
    "plt.figure(figsize=(15,5))\n",
    "plt.bar(temp_category.Category, temp_category.Session_id)\n",
    "plt.title(\"Frequently viewed categories\",size=20)\n",
    "plt.xticks(rotation=45)\n",
    "plt.show() "
   ]
  },
  {
   "cell_type": "markdown",
   "metadata": {},
   "source": [
    "subcategories"
   ]
  },
  {
   "cell_type": "code",
   "execution_count": 32,
   "metadata": {},
   "outputs": [
    {
     "data": {
      "text/html": [
       "<div>\n",
       "<style scoped>\n",
       "    .dataframe tbody tr th:only-of-type {\n",
       "        vertical-align: middle;\n",
       "    }\n",
       "\n",
       "    .dataframe tbody tr th {\n",
       "        vertical-align: top;\n",
       "    }\n",
       "\n",
       "    .dataframe thead th {\n",
       "        text-align: right;\n",
       "    }\n",
       "</style>\n",
       "<table border=\"1\" class=\"dataframe\">\n",
       "  <thead>\n",
       "    <tr style=\"text-align: right;\">\n",
       "      <th></th>\n",
       "      <th>SubCategory</th>\n",
       "      <th>Session_id</th>\n",
       "    </tr>\n",
       "  </thead>\n",
       "  <tbody>\n",
       "    <tr>\n",
       "      <th>0</th>\n",
       "      <td>Books</td>\n",
       "      <td>46</td>\n",
       "    </tr>\n",
       "    <tr>\n",
       "      <th>1</th>\n",
       "      <td>Watches</td>\n",
       "      <td>36</td>\n",
       "    </tr>\n",
       "    <tr>\n",
       "      <th>2</th>\n",
       "      <td>Jeans</td>\n",
       "      <td>32</td>\n",
       "    </tr>\n",
       "    <tr>\n",
       "      <th>3</th>\n",
       "      <td>Speakers</td>\n",
       "      <td>29</td>\n",
       "    </tr>\n",
       "    <tr>\n",
       "      <th>4</th>\n",
       "      <td>Tops</td>\n",
       "      <td>27</td>\n",
       "    </tr>\n",
       "    <tr>\n",
       "      <th>5</th>\n",
       "      <td>Mobile</td>\n",
       "      <td>25</td>\n",
       "    </tr>\n",
       "    <tr>\n",
       "      <th>6</th>\n",
       "      <td>Cases</td>\n",
       "      <td>23</td>\n",
       "    </tr>\n",
       "    <tr>\n",
       "      <th>7</th>\n",
       "      <td>Shoes</td>\n",
       "      <td>22</td>\n",
       "    </tr>\n",
       "    <tr>\n",
       "      <th>8</th>\n",
       "      <td>iPad</td>\n",
       "      <td>21</td>\n",
       "    </tr>\n",
       "    <tr>\n",
       "      <th>9</th>\n",
       "      <td>Cat food</td>\n",
       "      <td>19</td>\n",
       "    </tr>\n",
       "  </tbody>\n",
       "</table>\n",
       "</div>"
      ],
      "text/plain": [
       "  SubCategory  Session_id\n",
       "0       Books          46\n",
       "1     Watches          36\n",
       "2       Jeans          32\n",
       "3    Speakers          29\n",
       "4        Tops          27\n",
       "5      Mobile          25\n",
       "6       Cases          23\n",
       "7       Shoes          22\n",
       "8        iPad          21\n",
       "9    Cat food          19"
      ]
     },
     "execution_count": 32,
     "metadata": {},
     "output_type": "execute_result"
    }
   ],
   "source": [
    "subcatogories=data.groupby('SubCategory')['Session_id'].count().sort_values(ascending=False).reset_index()[:10]\n",
    "subcatogories\n"
   ]
  },
  {
   "cell_type": "code",
   "execution_count": 41,
   "metadata": {},
   "outputs": [
    {
     "data": {
      "image/png": "[encoded data removed]",
      "text/plain": [
       "<Figure size 1500x500 with 1 Axes>"
      ]
     },
     "metadata": {},
     "output_type": "display_data"
    }
   ],
   "source": [
    "subcatogories=data.groupby('SubCategory')['Session_id'].count().sort_values(ascending=False).reset_index()[:10]\n",
    "plt.figure(figsize=(15,5))\n",
    "plt.bar(subcatogories.SubCategory,subcatogories.Session_id)\n",
    "plt.title(\"popular subcategories\",size=20)\n",
    "plt.xticks(rotation=45)\n",
    "plt.show()"
   ]
  },
  {
   "cell_type": "markdown",
   "metadata": {},
   "source": [
    "Actions:"
   ]
  },
  {
   "cell_type": "code",
   "execution_count": 36,
   "metadata": {},
   "outputs": [
    {
     "data": {
      "text/plain": [
       "array(['first_app_open', 'search', 'product_view', 'read_reviews',\n",
       "       'add_review', 'add_to_cart', 'checkout', 'purchase',\n",
       "       'add_to_wishlist', 'click_wishlist_page', 'product_review',\n",
       "       'add_to_wishist', 'read_review'], dtype=object)"
      ]
     },
     "execution_count": 36,
     "metadata": {},
     "output_type": "execute_result"
    }
   ],
   "source": [
    "data['Action'].unique()"
   ]
  },
  {
   "cell_type": "code",
   "execution_count": 48,
   "metadata": {},
   "outputs": [
    {
     "data": {
      "text/plain": [
       "array(['first_app_open', 'search', 'product_view', 'read_reviews',\n",
       "       'add_review', 'add_to_cart', 'checkout', 'purchase',\n",
       "       'add_to_wishlist', 'click_wishlist_page', 'product_review'],\n",
       "      dtype=object)"
      ]
     },
     "execution_count": 48,
     "metadata": {},
     "output_type": "execute_result"
    }
   ],
   "source": [
    "data['Action']=data['Action'].apply(lambda x: 'read_reviews' if x in ('read_review') else x)\n",
    "data['Action']= data['Action'].apply(lambda x : 'add_to_wishlist' if x in ('add_to_wishist') else x)\n",
    "data['Action'].unique()"
   ]
  },
  {
   "cell_type": "code",
   "execution_count": 47,
   "metadata": {},
   "outputs": [
    {
     "data": {
      "text/plain": [
       "11"
      ]
     },
     "execution_count": 47,
     "metadata": {},
     "output_type": "execute_result"
    }
   ],
   "source": [
    "data['Action'].nunique()"
   ]
  },
  {
   "cell_type": "code",
   "execution_count": 50,
   "metadata": {},
   "outputs": [
    {
     "data": {
      "text/plain": [
       "Action\n",
       "read_reviews           343\n",
       "search                 320\n",
       "product_view           292\n",
       "add_to_cart            280\n",
       "checkout               202\n",
       "click_wishlist_page    202\n",
       "purchase               201\n",
       "first_app_open         121\n",
       "add_review              69\n",
       "add_to_wishlist         38\n",
       "product_review          22\n",
       "Name: count, dtype: int64"
      ]
     },
     "execution_count": 50,
     "metadata": {},
     "output_type": "execute_result"
    }
   ],
   "source": [
    "data.Action.value_counts()"
   ]
  },
  {
   "cell_type": "code",
   "execution_count": 52,
   "metadata": {},
   "outputs": [
    {
     "data": {
      "text/html": [
       "<div>\n",
       "<style scoped>\n",
       "    .dataframe tbody tr th:only-of-type {\n",
       "        vertical-align: middle;\n",
       "    }\n",
       "\n",
       "    .dataframe tbody tr th {\n",
       "        vertical-align: top;\n",
       "    }\n",
       "\n",
       "    .dataframe thead th {\n",
       "        text-align: right;\n",
       "    }\n",
       "</style>\n",
       "<table border=\"1\" class=\"dataframe\">\n",
       "  <thead>\n",
       "    <tr style=\"text-align: right;\">\n",
       "      <th></th>\n",
       "      <th>Action</th>\n",
       "      <th>Session_id</th>\n",
       "    </tr>\n",
       "  </thead>\n",
       "  <tbody>\n",
       "    <tr>\n",
       "      <th>0</th>\n",
       "      <td>read_reviews</td>\n",
       "      <td>343</td>\n",
       "    </tr>\n",
       "    <tr>\n",
       "      <th>1</th>\n",
       "      <td>search</td>\n",
       "      <td>320</td>\n",
       "    </tr>\n",
       "    <tr>\n",
       "      <th>2</th>\n",
       "      <td>product_view</td>\n",
       "      <td>292</td>\n",
       "    </tr>\n",
       "    <tr>\n",
       "      <th>3</th>\n",
       "      <td>add_to_cart</td>\n",
       "      <td>280</td>\n",
       "    </tr>\n",
       "    <tr>\n",
       "      <th>4</th>\n",
       "      <td>checkout</td>\n",
       "      <td>202</td>\n",
       "    </tr>\n",
       "    <tr>\n",
       "      <th>5</th>\n",
       "      <td>click_wishlist_page</td>\n",
       "      <td>202</td>\n",
       "    </tr>\n",
       "    <tr>\n",
       "      <th>6</th>\n",
       "      <td>purchase</td>\n",
       "      <td>201</td>\n",
       "    </tr>\n",
       "    <tr>\n",
       "      <th>7</th>\n",
       "      <td>first_app_open</td>\n",
       "      <td>121</td>\n",
       "    </tr>\n",
       "    <tr>\n",
       "      <th>8</th>\n",
       "      <td>add_review</td>\n",
       "      <td>69</td>\n",
       "    </tr>\n",
       "    <tr>\n",
       "      <th>9</th>\n",
       "      <td>add_to_wishlist</td>\n",
       "      <td>38</td>\n",
       "    </tr>\n",
       "    <tr>\n",
       "      <th>10</th>\n",
       "      <td>product_review</td>\n",
       "      <td>22</td>\n",
       "    </tr>\n",
       "  </tbody>\n",
       "</table>\n",
       "</div>"
      ],
      "text/plain": [
       "                 Action  Session_id\n",
       "0          read_reviews         343\n",
       "1                search         320\n",
       "2          product_view         292\n",
       "3           add_to_cart         280\n",
       "4              checkout         202\n",
       "5   click_wishlist_page         202\n",
       "6              purchase         201\n",
       "7        first_app_open         121\n",
       "8            add_review          69\n",
       "9       add_to_wishlist          38\n",
       "10       product_review          22"
      ]
     },
     "execution_count": 52,
     "metadata": {},
     "output_type": "execute_result"
    }
   ],
   "source": [
    "actions=data.groupby(['Action'])['Session_id'].count().sort_values(ascending=False).reset_index()\n",
    "actions"
   ]
  },
  {
   "cell_type": "code",
   "execution_count": 54,
   "metadata": {},
   "outputs": [
    {
     "data": {
      "image/png": "[encoded data removed]",
      "text/plain": [
       "<Figure size 1500x500 with 1 Axes>"
      ]
     },
     "metadata": {},
     "output_type": "display_data"
    }
   ],
   "source": [
    "plt.figure(figsize=(15,5))\n",
    "plt.bar(actions.Action,actions.Session_id)\n",
    "plt.title(\"popular Actions\",size=20)\n",
    "plt.xticks(rotation=45)\n",
    "plt.show()"
   ]
  },
  {
   "cell_type": "code",
   "execution_count": 55,
   "metadata": {},
   "outputs": [
    {
     "data": {
      "text/html": [
       "<div>\n",
       "<style scoped>\n",
       "    .dataframe tbody tr th:only-of-type {\n",
       "        vertical-align: middle;\n",
       "    }\n",
       "\n",
       "    .dataframe tbody tr th {\n",
       "        vertical-align: top;\n",
       "    }\n",
       "\n",
       "    .dataframe thead th {\n",
       "        text-align: right;\n",
       "    }\n",
       "</style>\n",
       "<table border=\"1\" class=\"dataframe\">\n",
       "  <thead>\n",
       "    <tr style=\"text-align: right;\">\n",
       "      <th></th>\n",
       "      <th>User_id</th>\n",
       "      <th>Session_id</th>\n",
       "      <th>DateTime</th>\n",
       "      <th>Category</th>\n",
       "      <th>SubCategory</th>\n",
       "      <th>Action</th>\n",
       "      <th>Quantity</th>\n",
       "      <th>Rate</th>\n",
       "      <th>Total Price</th>\n",
       "    </tr>\n",
       "  </thead>\n",
       "  <tbody>\n",
       "    <tr>\n",
       "      <th>0</th>\n",
       "      <td>52243841613</td>\n",
       "      <td>d76fde-8bb3-4e00-8c23</td>\n",
       "      <td>2019-01-10 10:20:00</td>\n",
       "      <td>Electronic Appliances</td>\n",
       "      <td>Speakers</td>\n",
       "      <td>first_app_open</td>\n",
       "      <td>NaN</td>\n",
       "      <td>NaN</td>\n",
       "      <td>NaN</td>\n",
       "    </tr>\n",
       "    <tr>\n",
       "      <th>1</th>\n",
       "      <td>52243841613</td>\n",
       "      <td>33dfbd-b87a-4708-9857</td>\n",
       "      <td>2019-01-10 10:22:00</td>\n",
       "      <td>Electronic Appliances</td>\n",
       "      <td>Speakers</td>\n",
       "      <td>search</td>\n",
       "      <td>NaN</td>\n",
       "      <td>NaN</td>\n",
       "      <td>NaN</td>\n",
       "    </tr>\n",
       "    <tr>\n",
       "      <th>2</th>\n",
       "      <td>57314161118</td>\n",
       "      <td>6511c2-e2e3-422b-b695</td>\n",
       "      <td>2019-01-10 14:00:00</td>\n",
       "      <td>Men's Fashion</td>\n",
       "      <td>Jeans</td>\n",
       "      <td>search</td>\n",
       "      <td>NaN</td>\n",
       "      <td>NaN</td>\n",
       "      <td>NaN</td>\n",
       "    </tr>\n",
       "    <tr>\n",
       "      <th>3</th>\n",
       "      <td>57314161118</td>\n",
       "      <td>90fc70-0e80-4590-96f3</td>\n",
       "      <td>2019-01-10 14:07:00</td>\n",
       "      <td>Men's Fashion</td>\n",
       "      <td>Jeans</td>\n",
       "      <td>product_view</td>\n",
       "      <td>NaN</td>\n",
       "      <td>NaN</td>\n",
       "      <td>NaN</td>\n",
       "    </tr>\n",
       "    <tr>\n",
       "      <th>4</th>\n",
       "      <td>57314161118</td>\n",
       "      <td>bd7419-2748-4c56-95b4</td>\n",
       "      <td>2019-01-10 14:12:00</td>\n",
       "      <td>Men's Fashion</td>\n",
       "      <td>Jeans</td>\n",
       "      <td>read_reviews</td>\n",
       "      <td>NaN</td>\n",
       "      <td>NaN</td>\n",
       "      <td>NaN</td>\n",
       "    </tr>\n",
       "  </tbody>\n",
       "</table>\n",
       "</div>"
      ],
      "text/plain": [
       "       User_id             Session_id            DateTime  \\\n",
       "0  52243841613  d76fde-8bb3-4e00-8c23 2019-01-10 10:20:00   \n",
       "1  52243841613  33dfbd-b87a-4708-9857 2019-01-10 10:22:00   \n",
       "2  57314161118  6511c2-e2e3-422b-b695 2019-01-10 14:00:00   \n",
       "3  57314161118  90fc70-0e80-4590-96f3 2019-01-10 14:07:00   \n",
       "4  57314161118  bd7419-2748-4c56-95b4 2019-01-10 14:12:00   \n",
       "\n",
       "                Category SubCategory          Action  Quantity  Rate  \\\n",
       "0  Electronic Appliances    Speakers  first_app_open       NaN   NaN   \n",
       "1  Electronic Appliances    Speakers          search       NaN   NaN   \n",
       "2          Men's Fashion       Jeans          search       NaN   NaN   \n",
       "3          Men's Fashion       Jeans    product_view       NaN   NaN   \n",
       "4          Men's Fashion       Jeans    read_reviews       NaN   NaN   \n",
       "\n",
       "   Total Price  \n",
       "0          NaN  \n",
       "1          NaN  \n",
       "2          NaN  \n",
       "3          NaN  \n",
       "4          NaN  "
      ]
     },
     "execution_count": 55,
     "metadata": {},
     "output_type": "execute_result"
    }
   ],
   "source": [
    "data.head()"
   ]
  },
  {
   "cell_type": "markdown",
   "metadata": {},
   "source": [
    "Quantity"
   ]
  },
  {
   "cell_type": "code",
   "execution_count": 73,
   "metadata": {},
   "outputs": [
    {
     "name": "stdout",
     "output_type": "stream",
     "text": [
      "summary stats of Quantity:\n"
     ]
    },
    {
     "data": {
      "text/html": [
       "<div>\n",
       "<style scoped>\n",
       "    .dataframe tbody tr th:only-of-type {\n",
       "        vertical-align: middle;\n",
       "    }\n",
       "\n",
       "    .dataframe tbody tr th {\n",
       "        vertical-align: top;\n",
       "    }\n",
       "\n",
       "    .dataframe thead th {\n",
       "        text-align: right;\n",
       "    }\n",
       "</style>\n",
       "<table border=\"1\" class=\"dataframe\">\n",
       "  <thead>\n",
       "    <tr style=\"text-align: right;\">\n",
       "      <th></th>\n",
       "      <th>Quantity</th>\n",
       "    </tr>\n",
       "  </thead>\n",
       "  <tbody>\n",
       "    <tr>\n",
       "      <th>count</th>\n",
       "      <td>201.000000</td>\n",
       "    </tr>\n",
       "    <tr>\n",
       "      <th>mean</th>\n",
       "      <td>2.965174</td>\n",
       "    </tr>\n",
       "    <tr>\n",
       "      <th>std</th>\n",
       "      <td>7.161968</td>\n",
       "    </tr>\n",
       "    <tr>\n",
       "      <th>min</th>\n",
       "      <td>1.000000</td>\n",
       "    </tr>\n",
       "    <tr>\n",
       "      <th>25%</th>\n",
       "      <td>1.000000</td>\n",
       "    </tr>\n",
       "    <tr>\n",
       "      <th>50%</th>\n",
       "      <td>2.000000</td>\n",
       "    </tr>\n",
       "    <tr>\n",
       "      <th>75%</th>\n",
       "      <td>3.000000</td>\n",
       "    </tr>\n",
       "    <tr>\n",
       "      <th>max</th>\n",
       "      <td>100.000000</td>\n",
       "    </tr>\n",
       "  </tbody>\n",
       "</table>\n",
       "</div>"
      ],
      "text/plain": [
       "         Quantity\n",
       "count  201.000000\n",
       "mean     2.965174\n",
       "std      7.161968\n",
       "min      1.000000\n",
       "25%      1.000000\n",
       "50%      2.000000\n",
       "75%      3.000000\n",
       "max    100.000000"
      ]
     },
     "metadata": {},
     "output_type": "display_data"
    },
    {
     "data": {
      "image/png": "[encoded data removed]",
      "text/plain": [
       "<Figure size 800x400 with 1 Axes>"
      ]
     },
     "metadata": {},
     "output_type": "display_data"
    }
   ],
   "source": [
    "print('summary stats of Quantity:')\n",
    "display(data[['Quantity']].describe())\n",
    "\n",
    "plt.figure(figsize=(8,4))\n",
    "plt.hist(data[data['Quantity']<100]['Quantity'],density=False)\n",
    "plt.show()"
   ]
  },
  {
   "cell_type": "markdown",
   "metadata": {},
   "source": [
    "Total Price:"
   ]
  },
  {
   "cell_type": "code",
   "execution_count": 74,
   "metadata": {},
   "outputs": [
    {
     "name": "stdout",
     "output_type": "stream",
     "text": [
      "Summary stats of Total Price:\n"
     ]
    },
    {
     "data": {
      "text/html": [
       "<div>\n",
       "<style scoped>\n",
       "    .dataframe tbody tr th:only-of-type {\n",
       "        vertical-align: middle;\n",
       "    }\n",
       "\n",
       "    .dataframe tbody tr th {\n",
       "        vertical-align: top;\n",
       "    }\n",
       "\n",
       "    .dataframe thead th {\n",
       "        text-align: right;\n",
       "    }\n",
       "</style>\n",
       "<table border=\"1\" class=\"dataframe\">\n",
       "  <thead>\n",
       "    <tr style=\"text-align: right;\">\n",
       "      <th></th>\n",
       "      <th>Total Price</th>\n",
       "    </tr>\n",
       "  </thead>\n",
       "  <tbody>\n",
       "    <tr>\n",
       "      <th>count</th>\n",
       "      <td>201.000000</td>\n",
       "    </tr>\n",
       "    <tr>\n",
       "      <th>mean</th>\n",
       "      <td>9455.373134</td>\n",
       "    </tr>\n",
       "    <tr>\n",
       "      <th>std</th>\n",
       "      <td>18213.695424</td>\n",
       "    </tr>\n",
       "    <tr>\n",
       "      <th>min</th>\n",
       "      <td>150.000000</td>\n",
       "    </tr>\n",
       "    <tr>\n",
       "      <th>25%</th>\n",
       "      <td>1000.000000</td>\n",
       "    </tr>\n",
       "    <tr>\n",
       "      <th>50%</th>\n",
       "      <td>2500.000000</td>\n",
       "    </tr>\n",
       "    <tr>\n",
       "      <th>75%</th>\n",
       "      <td>8000.000000</td>\n",
       "    </tr>\n",
       "    <tr>\n",
       "      <th>max</th>\n",
       "      <td>160000.000000</td>\n",
       "    </tr>\n",
       "  </tbody>\n",
       "</table>\n",
       "</div>"
      ],
      "text/plain": [
       "         Total Price\n",
       "count     201.000000\n",
       "mean     9455.373134\n",
       "std     18213.695424\n",
       "min       150.000000\n",
       "25%      1000.000000\n",
       "50%      2500.000000\n",
       "75%      8000.000000\n",
       "max    160000.000000"
      ]
     },
     "metadata": {},
     "output_type": "display_data"
    },
    {
     "data": {
      "image/png": "[encoded data removed]",
      "text/plain": [
       "<Figure size 800x400 with 1 Axes>"
      ]
     },
     "metadata": {},
     "output_type": "display_data"
    }
   ],
   "source": [
    "# Distribution of Total Price\n",
    "print(\"Summary stats of Total Price:\")\n",
    "display(data[['Total Price']].describe())\n",
    "\n",
    "plt.figure(figsize=(8,4))\n",
    "plt.hist(data[data['Total Price']<=8000]['Total Price'], density=False)\n",
    "plt.title(\"Distribution of Total Price\",size=15)\n",
    "plt.show()"
   ]
  },
  {
   "cell_type": "markdown",
   "metadata": {},
   "source": [
    "### Multi variate analysis"
   ]
  },
  {
   "cell_type": "markdown",
   "metadata": {},
   "source": [
    "How many unique users in the data and how many of them purchased atleast once? Also, what is the average number of purchase per customer?"
   ]
  },
  {
   "cell_type": "code",
   "execution_count": 76,
   "metadata": {},
   "outputs": [
    {
     "data": {
      "text/html": [
       "<div>\n",
       "<style scoped>\n",
       "    .dataframe tbody tr th:only-of-type {\n",
       "        vertical-align: middle;\n",
       "    }\n",
       "\n",
       "    .dataframe tbody tr th {\n",
       "        vertical-align: top;\n",
       "    }\n",
       "\n",
       "    .dataframe thead th {\n",
       "        text-align: right;\n",
       "    }\n",
       "</style>\n",
       "<table border=\"1\" class=\"dataframe\">\n",
       "  <thead>\n",
       "    <tr style=\"text-align: right;\">\n",
       "      <th></th>\n",
       "      <th>User_id</th>\n",
       "      <th>Session_id</th>\n",
       "      <th>DateTime</th>\n",
       "      <th>Category</th>\n",
       "      <th>SubCategory</th>\n",
       "      <th>Action</th>\n",
       "      <th>Quantity</th>\n",
       "      <th>Rate</th>\n",
       "      <th>Total Price</th>\n",
       "    </tr>\n",
       "  </thead>\n",
       "  <tbody>\n",
       "    <tr>\n",
       "      <th>0</th>\n",
       "      <td>52243841613</td>\n",
       "      <td>d76fde-8bb3-4e00-8c23</td>\n",
       "      <td>2019-01-10 10:20:00</td>\n",
       "      <td>Electronic Appliances</td>\n",
       "      <td>Speakers</td>\n",
       "      <td>first_app_open</td>\n",
       "      <td>NaN</td>\n",
       "      <td>NaN</td>\n",
       "      <td>NaN</td>\n",
       "    </tr>\n",
       "    <tr>\n",
       "      <th>1</th>\n",
       "      <td>52243841613</td>\n",
       "      <td>33dfbd-b87a-4708-9857</td>\n",
       "      <td>2019-01-10 10:22:00</td>\n",
       "      <td>Electronic Appliances</td>\n",
       "      <td>Speakers</td>\n",
       "      <td>search</td>\n",
       "      <td>NaN</td>\n",
       "      <td>NaN</td>\n",
       "      <td>NaN</td>\n",
       "    </tr>\n",
       "    <tr>\n",
       "      <th>2</th>\n",
       "      <td>57314161118</td>\n",
       "      <td>6511c2-e2e3-422b-b695</td>\n",
       "      <td>2019-01-10 14:00:00</td>\n",
       "      <td>Men's Fashion</td>\n",
       "      <td>Jeans</td>\n",
       "      <td>search</td>\n",
       "      <td>NaN</td>\n",
       "      <td>NaN</td>\n",
       "      <td>NaN</td>\n",
       "    </tr>\n",
       "    <tr>\n",
       "      <th>3</th>\n",
       "      <td>57314161118</td>\n",
       "      <td>90fc70-0e80-4590-96f3</td>\n",
       "      <td>2019-01-10 14:07:00</td>\n",
       "      <td>Men's Fashion</td>\n",
       "      <td>Jeans</td>\n",
       "      <td>product_view</td>\n",
       "      <td>NaN</td>\n",
       "      <td>NaN</td>\n",
       "      <td>NaN</td>\n",
       "    </tr>\n",
       "    <tr>\n",
       "      <th>4</th>\n",
       "      <td>57314161118</td>\n",
       "      <td>bd7419-2748-4c56-95b4</td>\n",
       "      <td>2019-01-10 14:12:00</td>\n",
       "      <td>Men's Fashion</td>\n",
       "      <td>Jeans</td>\n",
       "      <td>read_reviews</td>\n",
       "      <td>NaN</td>\n",
       "      <td>NaN</td>\n",
       "      <td>NaN</td>\n",
       "    </tr>\n",
       "  </tbody>\n",
       "</table>\n",
       "</div>"
      ],
      "text/plain": [
       "       User_id             Session_id            DateTime  \\\n",
       "0  52243841613  d76fde-8bb3-4e00-8c23 2019-01-10 10:20:00   \n",
       "1  52243841613  33dfbd-b87a-4708-9857 2019-01-10 10:22:00   \n",
       "2  57314161118  6511c2-e2e3-422b-b695 2019-01-10 14:00:00   \n",
       "3  57314161118  90fc70-0e80-4590-96f3 2019-01-10 14:07:00   \n",
       "4  57314161118  bd7419-2748-4c56-95b4 2019-01-10 14:12:00   \n",
       "\n",
       "                Category SubCategory          Action  Quantity  Rate  \\\n",
       "0  Electronic Appliances    Speakers  first_app_open       NaN   NaN   \n",
       "1  Electronic Appliances    Speakers          search       NaN   NaN   \n",
       "2          Men's Fashion       Jeans          search       NaN   NaN   \n",
       "3          Men's Fashion       Jeans    product_view       NaN   NaN   \n",
       "4          Men's Fashion       Jeans    read_reviews       NaN   NaN   \n",
       "\n",
       "   Total Price  \n",
       "0          NaN  \n",
       "1          NaN  \n",
       "2          NaN  \n",
       "3          NaN  \n",
       "4          NaN  "
      ]
     },
     "execution_count": 76,
     "metadata": {},
     "output_type": "execute_result"
    }
   ],
   "source": [
    "data.head()"
   ]
  },
  {
   "cell_type": "code",
   "execution_count": 80,
   "metadata": {},
   "outputs": [
    {
     "name": "stdout",
     "output_type": "stream",
     "text": [
      "401\n"
     ]
    }
   ],
   "source": [
    "total_users=data.User_id.nunique()\n",
    "print(total_users)"
   ]
  },
  {
   "cell_type": "code",
   "execution_count": 88,
   "metadata": {},
   "outputs": [
    {
     "data": {
      "text/plain": [
       "201"
      ]
     },
     "execution_count": 88,
     "metadata": {},
     "output_type": "execute_result"
    }
   ],
   "source": [
    "total_purchases=data[data['Action']==\"purchase\"][\"User_id\"].count()\n",
    "total_purchases\n",
    "                     "
   ]
  },
  {
   "cell_type": "code",
   "execution_count": 91,
   "metadata": {},
   "outputs": [
    {
     "data": {
      "text/plain": [
       "167"
      ]
     },
     "execution_count": 91,
     "metadata": {},
     "output_type": "execute_result"
    }
   ],
   "source": [
    "atleast_one_purchase_cust=data[data['Action']=='purchase']['User_id'].nunique()\n",
    "atleast_one_purchase_cust"
   ]
  },
  {
   "cell_type": "code",
   "execution_count": 101,
   "metadata": {},
   "outputs": [
    {
     "data": {
      "text/html": [
       "<div>\n",
       "<style scoped>\n",
       "    .dataframe tbody tr th:only-of-type {\n",
       "        vertical-align: middle;\n",
       "    }\n",
       "\n",
       "    .dataframe tbody tr th {\n",
       "        vertical-align: top;\n",
       "    }\n",
       "\n",
       "    .dataframe thead th {\n",
       "        text-align: right;\n",
       "    }\n",
       "</style>\n",
       "<table border=\"1\" class=\"dataframe\">\n",
       "  <thead>\n",
       "    <tr style=\"text-align: right;\">\n",
       "      <th></th>\n",
       "      <th>no_of_purchase</th>\n",
       "    </tr>\n",
       "  </thead>\n",
       "  <tbody>\n",
       "    <tr>\n",
       "      <th>count</th>\n",
       "      <td>167.000000</td>\n",
       "    </tr>\n",
       "    <tr>\n",
       "      <th>mean</th>\n",
       "      <td>1.203593</td>\n",
       "    </tr>\n",
       "    <tr>\n",
       "      <th>std</th>\n",
       "      <td>0.432685</td>\n",
       "    </tr>\n",
       "    <tr>\n",
       "      <th>min</th>\n",
       "      <td>1.000000</td>\n",
       "    </tr>\n",
       "    <tr>\n",
       "      <th>25%</th>\n",
       "      <td>1.000000</td>\n",
       "    </tr>\n",
       "    <tr>\n",
       "      <th>50%</th>\n",
       "      <td>1.000000</td>\n",
       "    </tr>\n",
       "    <tr>\n",
       "      <th>75%</th>\n",
       "      <td>1.000000</td>\n",
       "    </tr>\n",
       "    <tr>\n",
       "      <th>max</th>\n",
       "      <td>3.000000</td>\n",
       "    </tr>\n",
       "  </tbody>\n",
       "</table>\n",
       "</div>"
      ],
      "text/plain": [
       "       no_of_purchase\n",
       "count      167.000000\n",
       "mean         1.203593\n",
       "std          0.432685\n",
       "min          1.000000\n",
       "25%          1.000000\n",
       "50%          1.000000\n",
       "75%          1.000000\n",
       "max          3.000000"
      ]
     },
     "metadata": {},
     "output_type": "display_data"
    }
   ],
   "source": [
    "purch_dist_by_cust=data[data['Action']=='purchase'].groupby('User_id').agg({'SubCategory':'count'}).reset_index().sort_values(by='SubCategory',ascending=False)\n",
    "purch_dist_by_cust.rename(columns={'SubCategory':'no_of_purchase'},inplace=True)\n",
    "purch_dist_by_cust.no_of_purchase.mean()#avg number of purchase per customer\n",
    "display(purch_dist_by_cust[['no_of_purchase']].describe())\n"
   ]
  },
  {
   "cell_type": "markdown",
   "metadata": {},
   "source": [
    "Which is the most purchased Category/Sub-category?"
   ]
  },
  {
   "cell_type": "code",
   "execution_count": 102,
   "metadata": {},
   "outputs": [
    {
     "data": {
      "text/html": [
       "<div>\n",
       "<style scoped>\n",
       "    .dataframe tbody tr th:only-of-type {\n",
       "        vertical-align: middle;\n",
       "    }\n",
       "\n",
       "    .dataframe tbody tr th {\n",
       "        vertical-align: top;\n",
       "    }\n",
       "\n",
       "    .dataframe thead th {\n",
       "        text-align: right;\n",
       "    }\n",
       "</style>\n",
       "<table border=\"1\" class=\"dataframe\">\n",
       "  <thead>\n",
       "    <tr style=\"text-align: right;\">\n",
       "      <th></th>\n",
       "      <th>Category</th>\n",
       "      <th>User_id</th>\n",
       "    </tr>\n",
       "  </thead>\n",
       "  <tbody>\n",
       "    <tr>\n",
       "      <th>0</th>\n",
       "      <td>Mobile &amp; Accessories</td>\n",
       "      <td>14</td>\n",
       "    </tr>\n",
       "    <tr>\n",
       "      <th>1</th>\n",
       "      <td>Accessories</td>\n",
       "      <td>12</td>\n",
       "    </tr>\n",
       "    <tr>\n",
       "      <th>2</th>\n",
       "      <td>Women's Fashion</td>\n",
       "      <td>10</td>\n",
       "    </tr>\n",
       "    <tr>\n",
       "      <th>3</th>\n",
       "      <td>Fitness</td>\n",
       "      <td>9</td>\n",
       "    </tr>\n",
       "    <tr>\n",
       "      <th>4</th>\n",
       "      <td>Stationary</td>\n",
       "      <td>9</td>\n",
       "    </tr>\n",
       "    <tr>\n",
       "      <th>5</th>\n",
       "      <td>Men's Fashion</td>\n",
       "      <td>8</td>\n",
       "    </tr>\n",
       "    <tr>\n",
       "      <th>6</th>\n",
       "      <td>Digital Devices</td>\n",
       "      <td>7</td>\n",
       "    </tr>\n",
       "    <tr>\n",
       "      <th>7</th>\n",
       "      <td>Toys</td>\n",
       "      <td>7</td>\n",
       "    </tr>\n",
       "    <tr>\n",
       "      <th>8</th>\n",
       "      <td>Gardern and Outdoor</td>\n",
       "      <td>6</td>\n",
       "    </tr>\n",
       "    <tr>\n",
       "      <th>9</th>\n",
       "      <td>Gifts</td>\n",
       "      <td>5</td>\n",
       "    </tr>\n",
       "  </tbody>\n",
       "</table>\n",
       "</div>"
      ],
      "text/plain": [
       "               Category  User_id\n",
       "0  Mobile & Accessories       14\n",
       "1           Accessories       12\n",
       "2       Women's Fashion       10\n",
       "3               Fitness        9\n",
       "4            Stationary        9\n",
       "5         Men's Fashion        8\n",
       "6       Digital Devices        7\n",
       "7                  Toys        7\n",
       "8   Gardern and Outdoor        6\n",
       "9                 Gifts        5"
      ]
     },
     "execution_count": 102,
     "metadata": {},
     "output_type": "execute_result"
    }
   ],
   "source": [
    "temp_category=data[data['Action']=='purchase'].groupby('Category')['User_id'].count().sort_values(ascending=False).reset_index()[:10]\n",
    "temp_category"
   ]
  },
  {
   "cell_type": "code",
   "execution_count": 107,
   "metadata": {},
   "outputs": [
    {
     "data": {
      "image/png": "[encoded data removed]",
      "text/plain": [
       "<Figure size 1500x500 with 1 Axes>"
      ]
     },
     "metadata": {},
     "output_type": "display_data"
    }
   ],
   "source": [
    "plt.figure(figsize=(15,5))\n",
    "plt.bar(temp_category.Category, temp_category.User_id, color='g')\n",
    "plt.title(\"Top 10 more frequently purchased categories\", size=15)\n",
    "plt.xticks(rotation=45)\n",
    "plt.xlabel(\" \")\n",
    "plt.show()"
   ]
  },
  {
   "cell_type": "code",
   "execution_count": 106,
   "metadata": {},
   "outputs": [
    {
     "data": {
      "text/html": [
       "<div>\n",
       "<style scoped>\n",
       "    .dataframe tbody tr th:only-of-type {\n",
       "        vertical-align: middle;\n",
       "    }\n",
       "\n",
       "    .dataframe tbody tr th {\n",
       "        vertical-align: top;\n",
       "    }\n",
       "\n",
       "    .dataframe thead th {\n",
       "        text-align: right;\n",
       "    }\n",
       "</style>\n",
       "<table border=\"1\" class=\"dataframe\">\n",
       "  <thead>\n",
       "    <tr style=\"text-align: right;\">\n",
       "      <th></th>\n",
       "      <th>SubCategory</th>\n",
       "      <th>User_id</th>\n",
       "    </tr>\n",
       "  </thead>\n",
       "  <tbody>\n",
       "    <tr>\n",
       "      <th>0</th>\n",
       "      <td>Books</td>\n",
       "      <td>4</td>\n",
       "    </tr>\n",
       "    <tr>\n",
       "      <th>1</th>\n",
       "      <td>Watches</td>\n",
       "      <td>4</td>\n",
       "    </tr>\n",
       "    <tr>\n",
       "      <th>2</th>\n",
       "      <td>Tops</td>\n",
       "      <td>4</td>\n",
       "    </tr>\n",
       "    <tr>\n",
       "      <th>3</th>\n",
       "      <td>Charging wire</td>\n",
       "      <td>3</td>\n",
       "    </tr>\n",
       "    <tr>\n",
       "      <th>4</th>\n",
       "      <td>Ropes</td>\n",
       "      <td>3</td>\n",
       "    </tr>\n",
       "    <tr>\n",
       "      <th>5</th>\n",
       "      <td>Door lock</td>\n",
       "      <td>3</td>\n",
       "    </tr>\n",
       "    <tr>\n",
       "      <th>6</th>\n",
       "      <td>Jeans</td>\n",
       "      <td>3</td>\n",
       "    </tr>\n",
       "    <tr>\n",
       "      <th>7</th>\n",
       "      <td>Surround system</td>\n",
       "      <td>3</td>\n",
       "    </tr>\n",
       "    <tr>\n",
       "      <th>8</th>\n",
       "      <td>Cd's</td>\n",
       "      <td>2</td>\n",
       "    </tr>\n",
       "    <tr>\n",
       "      <th>9</th>\n",
       "      <td>Cases</td>\n",
       "      <td>2</td>\n",
       "    </tr>\n",
       "  </tbody>\n",
       "</table>\n",
       "</div>"
      ],
      "text/plain": [
       "       SubCategory  User_id\n",
       "0            Books        4\n",
       "1          Watches        4\n",
       "2             Tops        4\n",
       "3    Charging wire        3\n",
       "4            Ropes        3\n",
       "5        Door lock        3\n",
       "6            Jeans        3\n",
       "7  Surround system        3\n",
       "8             Cd's        2\n",
       "9            Cases        2"
      ]
     },
     "execution_count": 106,
     "metadata": {},
     "output_type": "execute_result"
    }
   ],
   "source": [
    "temp_subcategory=data[data['Action']=='purchase'].groupby('SubCategory')['User_id'].count().sort_values(ascending=False).reset_index()[:10]\n",
    "temp_subcategory"
   ]
  },
  {
   "cell_type": "code",
   "execution_count": 108,
   "metadata": {},
   "outputs": [
    {
     "data": {
      "image/png": "[encoded data removed]",
      "text/plain": [
       "<Figure size 1500x500 with 1 Axes>"
      ]
     },
     "metadata": {},
     "output_type": "display_data"
    }
   ],
   "source": [
    "\n",
    "plt.figure(figsize=(15,5))\n",
    "plt.bar(temp_subcategory.SubCategory, temp_subcategory.User_id, color='y')\n",
    "plt.title(\"Top 10 more frequently purchased sub-categories\", size=15)\n",
    "plt.xticks(rotation=45)\n",
    "plt.xlabel(\" \")\n",
    "plt.show()"
   ]
  },
  {
   "cell_type": "markdown",
   "metadata": {},
   "source": [
    "Do people add the products to cart before they purchase or buy directly?"
   ]
  },
  {
   "cell_type": "code",
   "execution_count": null,
   "metadata": {},
   "outputs": [],
   "source": [
    "purchase_users=data[data['Action']=='purchase'].groupby('')"
   ]
  },
  {
   "cell_type": "code",
   "execution_count": null,
   "metadata": {},
   "outputs": [],
   "source": []
  }
 ],
 "metadata": {
  "kernelspec": {
   "display_name": "base",
   "language": "python",
   "name": "python3"
  },
  "language_info": {
   "codemirror_mode": {
    "name": "ipython",
    "version": 3
   },
   "file_extension": ".py",
   "mimetype": "text/x-python",
   "name": "python",
   "nbconvert_exporter": "python",
   "pygments_lexer": "ipython3",
   "version": "3.11.5"
  }
 },
 "nbformat": 4,
 "nbformat_minor": 2
}
